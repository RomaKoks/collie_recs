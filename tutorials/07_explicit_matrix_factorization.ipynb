{
 "cells": [
  {
   "cell_type": "markdown",
   "metadata": {
    "id": "TayxYjT6ghTz"
   },
   "source": [
    "<table align=\"left\">\n",
    "  <td>\n",
    "    <a target=\"_blank\" href=\"https://colab.research.google.com/github/ShopRunner/collie/blob/main/tutorials/07_explicit_matrix_factorization.ipynb\"><img src=\"https://www.tensorflow.org/images/colab_logo_32px.png\" /> Run in Google Colab</a>\n",
    "  </td>\n",
    "  <td>\n",
    "    <a target=\"_blank\" href=\"https://github.com/ShopRunner/collie/blob/main/tutorials/07_explicit_matrix_factorization.ipynb\"><img src=\"https://www.tensorflow.org/images/GitHub-Mark-32px.png\" /> View source on GitHub</a>\n",
    "  </td>\n",
    "  <td>\n",
    "    <a target=\"_blank\" href=\"https://raw.githubusercontent.com/ShopRunner/collie/main/tutorials/07_explicit_matrix_factorization.ipynb\"><img src=\"https://www.tensorflow.org/images/download_logo_32px.png\" /> Download notebook</a>\n",
    "  </td>\n",
    "</table>"
   ]
  },
  {
   "cell_type": "code",
   "execution_count": 1,
   "metadata": {
    "id": "biMV0A3PghT8"
   },
   "outputs": [
    {
     "name": "stdout",
     "output_type": "stream",
     "text": [
      "\u001b[33mWARNING: Running pip as root will break packages and permissions. You should install packages reliably by using venv: https://pip.pypa.io/warnings/venv\u001b[0m\n"
     ]
    }
   ],
   "source": [
    "# for Collab notebooks, we will start by installing the ``collie`` library\n",
    "!pip install collie --quiet"
   ]
  },
  {
   "cell_type": "code",
   "execution_count": 2,
   "metadata": {
    "id": "jXy-xd0PghT9",
    "outputId": "b4008bd7-ee81-4317-e74d-eb6bb7d3320c",
    "tags": []
   },
   "outputs": [
    {
     "name": "stdout",
     "output_type": "stream",
     "text": [
      "env: DATA_PATH=data/\n"
     ]
    }
   ],
   "source": [
    "%reload_ext autoreload\n",
    "%autoreload 2\n",
    "%matplotlib inline\n",
    "\n",
    "%env DATA_PATH data/"
   ]
  },
  {
   "cell_type": "code",
   "execution_count": 3,
   "metadata": {
    "id": "TXwfzQCMghT-",
    "tags": []
   },
   "outputs": [],
   "source": [
    "import os\n",
    "\n",
    "from IPython.display import HTML\n",
    "import joblib\n",
    "import numpy as np\n",
    "from pytorch_lightning.utilities.seed import seed_everything\n",
    "import torchmetrics\n",
    "\n",
    "from collie.cross_validation import stratified_split\n",
    "from collie.interactions import ExplicitInteractions\n",
    "from collie.metrics import explicit_evaluate_in_batches\n",
    "from collie.model import CollieTrainer, MatrixFactorizationModel\n",
    "from collie.movielens import get_recommendation_visualizations, read_movielens_df"
   ]
  },
  {
   "cell_type": "markdown",
   "metadata": {
    "id": "44gLNrW-ghT_"
   },
   "source": [
    "# Explicit Data Support in Collie\n",
    "Thus far in the tutorials, we have focused on implicit recommendations where our source data does not contain the degree to which a user loved or hated an item, only that they interacted or did not interact with an item. This meant that our previous recommendation systems built would not know whether a user watched a film and loved it, or watched it and hated it. It made our recommendation systems more challenging, since they had to sort through all this noise to effectively make recommendations for users.\n",
    "\n",
    "While most data in the real world is implicit, there are times where we do have user feedback on their preferences, often in the form of a numerical star rating. When we have this data, known as **explicit data**, we can build even more effective recommendation systems! \n",
    "\n",
    "In this tutorial, we'll replicate the work we did in ``02_matrix_factorization`` earlier, but for explicit data. Note how similar the API is in Collie to prepare, train, and evaluate a model with this new dataset type. \n",
    "\n",
    "We'll begin by loading in data as we normally would, just with a few steps removed. "
   ]
  },
  {
   "cell_type": "code",
   "execution_count": 4,
   "metadata": {},
   "outputs": [
    {
     "data": {
      "text/plain": [
       "(100000, 4)"
      ]
     },
     "execution_count": 4,
     "metadata": {},
     "output_type": "execute_result"
    }
   ],
   "source": [
    "df = read_movielens_df(decrement_ids=True)\n",
    "\n",
    "df.shape"
   ]
  },
  {
   "cell_type": "code",
   "execution_count": 5,
   "metadata": {},
   "outputs": [
    {
     "name": "stdout",
     "output_type": "stream",
     "text": [
      "Checking for and removing duplicate user, item ID pairs...\n"
     ]
    },
    {
     "data": {
      "text/plain": [
       "ExplicitInteractions object with 100000 interactions between 943 users and 1682 items, with minimum rating of 1 and maximum rating of 5."
      ]
     },
     "execution_count": 5,
     "metadata": {},
     "output_type": "execute_result"
    }
   ],
   "source": [
    "# note that we will be using ``ExplicitInteractions`` here instead of ``Interactions``\n",
    "interactions = ExplicitInteractions(\n",
    "    users=df['user_id'],\n",
    "    items=df['item_id'],\n",
    "    ratings=df['rating'],\n",
    "    allow_missing_ids=True,\n",
    ")\n",
    "\n",
    "interactions"
   ]
  },
  {
   "cell_type": "code",
   "execution_count": 6,
   "metadata": {
    "id": "XKKPmYi_ghT_",
    "outputId": "23c16373-6747-4255-9f52-7091312e0b71"
   },
   "outputs": [
    {
     "name": "stdout",
     "output_type": "stream",
     "text": [
      "Train: ExplicitInteractions object with 89561 interactions between 943 users and 1682 items, with minimum rating of 1 and maximum rating of 5.\n",
      "Val:   ExplicitInteractions object with 10439 interactions between 943 users and 1682 items, with minimum rating of 1 and maximum rating of 5.\n"
     ]
    }
   ],
   "source": [
    "# but the data split is exactly the same!\n",
    "train_interactions, val_interactions = stratified_split(interactions, test_p=0.1, seed=42)\n",
    "\n",
    "\n",
    "print('Train:', train_interactions)\n",
    "print('Val:  ', val_interactions)"
   ]
  },
  {
   "cell_type": "markdown",
   "metadata": {
    "id": "ZWi4VUjeghUA"
   },
   "source": [
    "## Train a Matrix Factorization Model"
   ]
  },
  {
   "cell_type": "code",
   "execution_count": 7,
   "metadata": {
    "id": "J8FXCfXgghUB",
    "outputId": "cf7a3601-2841-438b-f7a2-3ebc20eefb54"
   },
   "outputs": [
    {
     "name": "stderr",
     "output_type": "stream",
     "text": [
      "Global seed set to 24\n"
     ]
    },
    {
     "data": {
      "text/plain": [
       "24"
      ]
     },
     "execution_count": 7,
     "metadata": {},
     "output_type": "execute_result"
    }
   ],
   "source": [
    "# this handy PyTorch Lightning function fixes random seeds across all the libraries used here\n",
    "seed_everything(24)"
   ]
  },
  {
   "cell_type": "code",
   "execution_count": 8,
   "metadata": {
    "id": "1BrD8J9WghUB"
   },
   "outputs": [
    {
     "data": {
      "text/plain": [
       "MatrixFactorizationModel(\n",
       "  (loss_function): MSELoss()\n",
       "  (user_biases): ZeroEmbedding(943, 1)\n",
       "  (item_biases): ZeroEmbedding(1682, 1)\n",
       "  (user_embeddings): ScaledEmbedding(943, 10)\n",
       "  (item_embeddings): ScaledEmbedding(1682, 10)\n",
       "  (dropout): Dropout(p=0.0, inplace=False)\n",
       ")"
      ]
     },
     "execution_count": 8,
     "metadata": {},
     "output_type": "execute_result"
    }
   ],
   "source": [
    "# ... and our model definition is exactly the same!\n",
    "# For explicit data, it is often nice to cap our results to be within a fixed range.\n",
    "# For MovieLens 100K data, all ratings are between 1 and 5, so we apply a final sigmoid at\n",
    "# the end of the model to ensure all predictions are within this range. This helps the model\n",
    "# learn significantly faster and perform better for explicit tasks!\n",
    "model = MatrixFactorizationModel(\n",
    "    train=train_interactions,\n",
    "    val=val_interactions,\n",
    "    embedding_dim=10,\n",
    "    lr=1e-2,\n",
    "    loss='mse',\n",
    "    y_range=[1, 5],\n",
    ")\n",
    "\n",
    "\n",
    "model"
   ]
  },
  {
   "cell_type": "code",
   "execution_count": 9,
   "metadata": {
    "colab": {
     "referenced_widgets": [
      "",
      "3fe1660eaf19452bb9a8dfb44746f19d"
     ]
    },
    "id": "HXdA1t9OghUC",
    "outputId": "924cada4-2036-4e1f-ae0a-b3ab35a44df1"
   },
   "outputs": [
    {
     "name": "stderr",
     "output_type": "stream",
     "text": [
      "GPU available: False, used: False\n",
      "TPU available: False, using: 0 TPU cores\n",
      "\n",
      "  | Name            | Type            | Params\n",
      "----------------------------------------------------\n",
      "0 | loss_function   | MSELoss         | 0     \n",
      "1 | user_biases     | ZeroEmbedding   | 943   \n",
      "2 | item_biases     | ZeroEmbedding   | 1.7 K \n",
      "3 | user_embeddings | ScaledEmbedding | 9.4 K \n",
      "4 | item_embeddings | ScaledEmbedding | 16.8 K\n",
      "5 | dropout         | Dropout         | 0     \n",
      "----------------------------------------------------\n",
      "28.9 K    Trainable params\n",
      "0         Non-trainable params\n",
      "28.9 K    Total params\n",
      "0.115     Total estimated model params size (MB)\n"
     ]
    },
    {
     "data": {
      "application/vnd.jupyter.widget-view+json": {
       "model_id": "",
       "version_major": 2,
       "version_minor": 0
      },
      "text/plain": [
       "Validation sanity check: 0it [00:00, ?it/s]"
      ]
     },
     "metadata": {},
     "output_type": "display_data"
    },
    {
     "name": "stderr",
     "output_type": "stream",
     "text": [
      "Global seed set to 24\n"
     ]
    },
    {
     "data": {
      "application/vnd.jupyter.widget-view+json": {
       "model_id": "fa1e1d2bf3174e459fec105d3cfc39a1",
       "version_major": 2,
       "version_minor": 0
      },
      "text/plain": [
       "Training: 0it [00:00, ?it/s]"
      ]
     },
     "metadata": {},
     "output_type": "display_data"
    },
    {
     "data": {
      "application/vnd.jupyter.widget-view+json": {
       "model_id": "",
       "version_major": 2,
       "version_minor": 0
      },
      "text/plain": [
       "Validating: 0it [00:00, ?it/s]"
      ]
     },
     "metadata": {},
     "output_type": "display_data"
    },
    {
     "data": {
      "application/vnd.jupyter.widget-view+json": {
       "model_id": "",
       "version_major": 2,
       "version_minor": 0
      },
      "text/plain": [
       "Validating: 0it [00:00, ?it/s]"
      ]
     },
     "metadata": {},
     "output_type": "display_data"
    },
    {
     "data": {
      "application/vnd.jupyter.widget-view+json": {
       "model_id": "",
       "version_major": 2,
       "version_minor": 0
      },
      "text/plain": [
       "Validating: 0it [00:00, ?it/s]"
      ]
     },
     "metadata": {},
     "output_type": "display_data"
    },
    {
     "data": {
      "application/vnd.jupyter.widget-view+json": {
       "model_id": "",
       "version_major": 2,
       "version_minor": 0
      },
      "text/plain": [
       "Validating: 0it [00:00, ?it/s]"
      ]
     },
     "metadata": {},
     "output_type": "display_data"
    },
    {
     "data": {
      "application/vnd.jupyter.widget-view+json": {
       "model_id": "",
       "version_major": 2,
       "version_minor": 0
      },
      "text/plain": [
       "Validating: 0it [00:00, ?it/s]"
      ]
     },
     "metadata": {},
     "output_type": "display_data"
    },
    {
     "name": "stdout",
     "output_type": "stream",
     "text": [
      "Epoch     5: reducing learning rate of group 0 to 1.0000e-03.\n",
      "Epoch     5: reducing learning rate of group 0 to 1.0000e-03.\n"
     ]
    },
    {
     "data": {
      "application/vnd.jupyter.widget-view+json": {
       "model_id": "",
       "version_major": 2,
       "version_minor": 0
      },
      "text/plain": [
       "Validating: 0it [00:00, ?it/s]"
      ]
     },
     "metadata": {},
     "output_type": "display_data"
    },
    {
     "data": {
      "application/vnd.jupyter.widget-view+json": {
       "model_id": "",
       "version_major": 2,
       "version_minor": 0
      },
      "text/plain": [
       "Validating: 0it [00:00, ?it/s]"
      ]
     },
     "metadata": {},
     "output_type": "display_data"
    },
    {
     "name": "stdout",
     "output_type": "stream",
     "text": [
      "Epoch     7: reducing learning rate of group 0 to 1.0000e-04.\n",
      "Epoch     7: reducing learning rate of group 0 to 1.0000e-04.\n"
     ]
    },
    {
     "data": {
      "application/vnd.jupyter.widget-view+json": {
       "model_id": "",
       "version_major": 2,
       "version_minor": 0
      },
      "text/plain": [
       "Validating: 0it [00:00, ?it/s]"
      ]
     },
     "metadata": {},
     "output_type": "display_data"
    },
    {
     "data": {
      "application/vnd.jupyter.widget-view+json": {
       "model_id": "",
       "version_major": 2,
       "version_minor": 0
      },
      "text/plain": [
       "Validating: 0it [00:00, ?it/s]"
      ]
     },
     "metadata": {},
     "output_type": "display_data"
    },
    {
     "name": "stdout",
     "output_type": "stream",
     "text": [
      "Epoch     9: reducing learning rate of group 0 to 1.0000e-05.\n",
      "Epoch     9: reducing learning rate of group 0 to 1.0000e-05.\n"
     ]
    },
    {
     "data": {
      "application/vnd.jupyter.widget-view+json": {
       "model_id": "",
       "version_major": 2,
       "version_minor": 0
      },
      "text/plain": [
       "Validating: 0it [00:00, ?it/s]"
      ]
     },
     "metadata": {},
     "output_type": "display_data"
    }
   ],
   "source": [
    "trainer = CollieTrainer(model, max_epochs=10, deterministic=True)\n",
    "\n",
    "trainer.fit(model)"
   ]
  },
  {
   "cell_type": "markdown",
   "metadata": {
    "id": "b1PhE5nDghUC"
   },
   "source": [
    "## Evaluate the Model \n",
    "Just like that, we have an explicit model with very few code changes from what we did in Tutorial 02! Of course, training a model means nothing if we can't tell how well it is performing.\n",
    "\n",
    "Luckily, explicit metrics are much more straightforward, the most common being:\n",
    "\n",
    "* [``Mean Squared Error``](https://en.wikipedia.org/wiki/Mean_squared_error)\n",
    "* [``Root Mean Squared Error``](https://en.wikipedia.org/wiki/Root-mean-square_deviation)\n",
    "* [``Mean Absolute Error``](https://en.wikipedia.org/wiki/Mean_absolute_error)\n",
    "\n",
    "Luckily, each of these metrics is built into PyTorch Lightning's companion library: ``torchmetrics``. We leverage the incredible work done in this library to handle different metric implementation. You can view the documentation for MSE [here](https://torchmetrics.readthedocs.io/en/latest/references/modules.html#meansquarederror) and MAE [here](https://torchmetrics.readthedocs.io/en/latest/references/modules.html#meanabsoluteerror).\n",
    "\n",
    "Note that adding new metrics is a breeze here as well. To read more about this, see the docs [here](https://torchmetrics.readthedocs.io/en/latest/pages/implement.html).\n",
    "\n",
    "We'll go ahead and evaluate all of these at once below, once again doing our computation on the GPU, if we can. Best of all, explicit metrics tend to finish significantly faster than implicit metrics, so this should be done as soon as you press start! "
   ]
  },
  {
   "cell_type": "code",
   "execution_count": 10,
   "metadata": {
    "colab": {
     "referenced_widgets": [
      "eef1d5e283574ab5bb6203765a7fe46a"
     ]
    },
    "id": "iRhCH6zPghUC",
    "outputId": "aa3215f8-f938-46d4-f0ef-1ddf35235117"
   },
   "outputs": [
    {
     "data": {
      "application/vnd.jupyter.widget-view+json": {
       "model_id": "6dddff44887a4fd6ba47d6c25f0d5f6c",
       "version_major": 2,
       "version_minor": 0
      },
      "text/plain": [
       "  0%|          | 0/11 [00:00<?, ?it/s]"
      ]
     },
     "metadata": {},
     "output_type": "display_data"
    },
    {
     "name": "stdout",
     "output_type": "stream",
     "text": [
      "MSE: 0.8649271726608276\n",
      "MAE: 0.7251297831535339\n"
     ]
    }
   ],
   "source": [
    "model.eval()  # set model to inference mode\n",
    "\n",
    "mse_score, mae_score = explicit_evaluate_in_batches(\n",
    "    metric_list=[torchmetrics.MeanSquaredError(), torchmetrics.MeanAbsoluteError()],\n",
    "    test_interactions=val_interactions,\n",
    "    model=model,\n",
    ")\n",
    "\n",
    "print(f'MSE: {mse_score}')\n",
    "print(f'MAE: {mae_score}')"
   ]
  },
  {
   "cell_type": "markdown",
   "metadata": {
    "id": "z7y-J7KUghUD"
   },
   "source": [
    "Again, we can also look at particular users to get a sense of what the recs look like. "
   ]
  },
  {
   "cell_type": "code",
   "execution_count": 11,
   "metadata": {
    "id": "sIQsXedgghUD",
    "outputId": "a41d35e0-f7fa-4b50-f395-fff6494c7f0b"
   },
   "outputs": [
    {
     "data": {
      "text/html": [
       "<h3>User 418:</h3><table border=\"1\" class=\"dataframe\">\n",
       "  <thead>\n",
       "    <tr style=\"text-align: right;\">\n",
       "      <th></th>\n",
       "      <th>Winter Guest, The (1997)</th>\n",
       "      <th>Scream (1996)</th>\n",
       "      <th>Contact (1997)</th>\n",
       "      <th>Full Monty, The (1997)</th>\n",
       "      <th>Game, The (1997)</th>\n",
       "      <th>Fly Away Home (1996)</th>\n",
       "      <th>Scream 2 (1997)</th>\n",
       "    </tr>\n",
       "  </thead>\n",
       "  <tbody>\n",
       "    <tr>\n",
       "      <th>Some loved films:</th>\n",
       "      <td><img src=\"https://m.media-amazon.com/images/M/MV5BMzgzMTY5ODY3M15BMl5BanBnXkFtZTcwNjM1MDEzMQ@@.jpg\" width=500></td>\n",
       "      <td><img src=\"https://m.media-amazon.com/images/M/MV5BMjA2NjU5MTg5OF5BMl5BanBnXkFtZTgwOTkyMzQxMDE@.jpg\" width=500></td>\n",
       "      <td><img src=\"https://m.media-amazon.com/images/M/MV5BYWNkYmFiZjUtYmI3Ni00NzIwLTkxZjktN2ZkMjdhMzlkMDc3XkEyXkFqcGdeQXVyNDk3NzU2MTQ@.jpg\" width=500></td>\n",
       "      <td><img src=\"https://m.media-amazon.com/images/M/MV5BODg0NWFjMTAtNGZjMC00NmZlLThhZDYtM2MzNTU2NDZiZDVmXkEyXkFqcGdeQXVyMDUyOTUyNQ@@.jpg\" width=500></td>\n",
       "      <td><img src=\"https://m.media-amazon.com/images/M/MV5BZGVmMDNmYmEtNGQ2Mi00Y2ZhLThhZTYtYjE5YmQzMjZiZGMxXkEyXkFqcGdeQXVyNDk3NzU2MTQ@.jpg\" width=500></td>\n",
       "      <td><img src=\"https://m.media-amazon.com/images/M/MV5BMTA0OTE5MDQ0NTBeQTJeQWpwZ15BbWU4MDI5OTc3NTMx.jpg\" width=500></td>\n",
       "      <td><img src=\"https://m.media-amazon.com/images/M/MV5BMDNlM2E2OTUtZTRhZi00ZDU1LWIxODAtN2E5OGZiNmIwMDIwXkEyXkFqcGdeQXVyMTQxNzMzNDI@.jpg\" width=500></td>\n",
       "    </tr>\n",
       "  </tbody>\n",
       "</table><table border=\"1\" class=\"dataframe\">\n",
       "  <thead>\n",
       "    <tr style=\"text-align: right;\">\n",
       "      <th></th>\n",
       "      <th>Home Alone 3 (1997)</th>\n",
       "      <th>D3: The Mighty Ducks (1996)</th>\n",
       "      <th>Stephen King's The Langoliers (1995)</th>\n",
       "      <th>Enchanted April (1991)</th>\n",
       "      <th>Ghost and the Darkness, The (1996)</th>\n",
       "      <th>Preacher's Wife, The (1996)</th>\n",
       "      <th>Happy Gilmore (1996)</th>\n",
       "      <th>Hellraiser: Bloodline (1996)</th>\n",
       "      <th>Striptease (1996)</th>\n",
       "      <th>Pagemaster, The (1994)</th>\n",
       "    </tr>\n",
       "  </thead>\n",
       "  <tbody>\n",
       "    <tr>\n",
       "      <th>Recommended films:</th>\n",
       "      <td><img src=\"https://m.media-amazon.com/images/M/MV5BZTJhYjVhOWMtYTUyOS00NWM0LThjNzYtZWYxOTkwN2FhODg2XkEyXkFqcGdeQXVyMTQxNzMzNDI@.jpg\" width=500></td>\n",
       "      <td><img src=\"https://m.media-amazon.com/images/M/MV5BNWMyZmNkNTMtYTZlMi00MmQ5LWE4NWQtMzVjZWZhNmU1Yjc1L2ltYWdlL2ltYWdlXkEyXkFqcGdeQXVyMTQxNzMzNDI@.jpg\" width=500></td>\n",
       "      <td><img src=\"https://m.media-amazon.com/images/M/MV5BNWNmNmVhZDYtM2Y1Yi00ZmNjLThlNTEtN2JiNjY4NGVhOTcyXkEyXkFqcGdeQXVyMTQxNzMzNDI@.jpg\" width=500></td>\n",
       "      <td><img src=\"https://m.media-amazon.com/images/M/MV5BMTU3Nzc4Mjc3MV5BMl5BanBnXkFtZTcwNjMzMzU1MQ@@.jpg\" width=500></td>\n",
       "      <td><img src=\"https://m.media-amazon.com/images/M/MV5BNWQ4NDRiMWItNGI5Yi00N2U1LTlkMGQtM2VjMzdkZTU0YzYyXkEyXkFqcGdeQXVyNTc1NTQxODI@.jpg\" width=500></td>\n",
       "      <td><img src=\"https://m.media-amazon.com/images/M/MV5BOWFiMGMzYmYtMGZjNy00ZWVkLTllMjAtMTQ2NmU1OWVhMjkxXkEyXkFqcGdeQXVyNjU0NTI0Nw@@.jpg\" width=500></td>\n",
       "      <td><img src=\"https://m.media-amazon.com/images/M/MV5BZWI2NjliOTYtZjE1OS00YzAyLWJjYTQtYWNmZTQzMTQzNzVjXkEyXkFqcGdeQXVyMTQxNzMzNDI@.jpg\" width=500></td>\n",
       "      <td><img src=\"https://m.media-amazon.com/images/M/MV5BMzM1NjVhNGUtY2FhNy00MTQ4LTkyNDAtZWE2YWZhYWQ2YzdmXkEyXkFqcGdeQXVyMTQxNzMzNDI@.jpg\" width=500></td>\n",
       "      <td><img src=\"https://m.media-amazon.com/images/M/MV5BYzM1OTQwZGItMTJlYy00NjJmLWEwOTMtMDQzNmU3ZGNiODJiL2ltYWdlXkEyXkFqcGdeQXVyNjQ2MjQ5NzM@.jpg\" width=500></td>\n",
       "      <td><img src=\"https://m.media-amazon.com/images/M/MV5BZjY1NjRjZjEtYjNhNS00YzY5LThjMGQtYmE0OTE3MGFiM2MyXkEyXkFqcGdeQXVyNTUyMzE4Mzg@.jpg\" width=500></td>\n",
       "    </tr>\n",
       "  </tbody>\n",
       "</table>-----<p style=\"margin:0\">User 418 has rated <strong>7</strong> films with a 4 or 5</p><p style=\"margin:0\">User 418 has rated <strong>13</strong> films with a 1, 2, or 3</p><p style=\"margin:0\">% of these films rated 5 or 4 appearing in the first 10 recommendations:<strong style=\"color:green\">20.0%</strong></p><p style=\"margin:0\">% of these films rated 1, 2, or 3 appearing in the first 10 recommendations: <strong style=\"color:red\">0.0%</strong></p>"
      ],
      "text/plain": [
       "<IPython.core.display.HTML object>"
      ]
     },
     "metadata": {},
     "output_type": "display_data"
    }
   ],
   "source": [
    "# select a random user ID to look at recommendations for\n",
    "user_id = np.random.randint(0, train_interactions.num_users)\n",
    "\n",
    "display(\n",
    "    HTML(\n",
    "        get_recommendation_visualizations(\n",
    "            model=model,\n",
    "            user_id=user_id,\n",
    "            filter_films=True,\n",
    "            shuffle=True,\n",
    "            detailed=True,\n",
    "        )\n",
    "    )\n",
    ")"
   ]
  },
  {
   "cell_type": "markdown",
   "metadata": {
    "id": "DbZ9ufGvghUE"
   },
   "source": [
    "## Save and Load a Standard Model "
   ]
  },
  {
   "cell_type": "code",
   "execution_count": 12,
   "metadata": {
    "id": "WqJbXHXgghUG"
   },
   "outputs": [],
   "source": [
    "# we can still save the model with...\n",
    "os.makedirs('models', exist_ok=True)\n",
    "model.save_model('models/explicit_matrix_factorization_model.pth')"
   ]
  },
  {
   "cell_type": "code",
   "execution_count": 13,
   "metadata": {
    "id": "Dz_8miLPghUG",
    "outputId": "2df293e2-82ca-4ed1-c96d-1d9d8a69ef23"
   },
   "outputs": [
    {
     "data": {
      "text/plain": [
       "MatrixFactorizationModel(\n",
       "  (user_biases): ZeroEmbedding(943, 1)\n",
       "  (item_biases): ZeroEmbedding(1682, 1)\n",
       "  (user_embeddings): ScaledEmbedding(943, 10)\n",
       "  (item_embeddings): ScaledEmbedding(1682, 10)\n",
       "  (dropout): Dropout(p=0.0, inplace=False)\n",
       ")"
      ]
     },
     "execution_count": 13,
     "metadata": {},
     "output_type": "execute_result"
    }
   ],
   "source": [
    "# ... and if we wanted to load that model back in, we can still do that easily...\n",
    "model_loaded_in = MatrixFactorizationModel(load_model_path='models/explicit_matrix_factorization_model.pth')\n",
    "\n",
    "\n",
    "model_loaded_in"
   ]
  },
  {
   "cell_type": "markdown",
   "metadata": {
    "id": "cQpWlCuughUH"
   },
   "source": [
    "That's the end of our tutorials, but it's not the end of the awesome features available in Collie. Check out all the different available architectures in the documentation [here](https://collie.readthedocs.io/en/latest/index.html)! "
   ]
  },
  {
   "cell_type": "markdown",
   "metadata": {
    "id": "DwqNr6fRghUH"
   },
   "source": [
    "----- "
   ]
  }
 ],
 "metadata": {
  "colab": {
   "collapsed_sections": [
    "44gLNrW-ghT_"
   ],
   "name": "02_matrix_factorization.ipynb",
   "provenance": []
  },
  "kernelspec": {
   "display_name": "Python 3",
   "language": "python",
   "name": "python3"
  },
  "language_info": {
   "codemirror_mode": {
    "name": "ipython",
    "version": 3
   },
   "file_extension": ".py",
   "mimetype": "text/x-python",
   "name": "python",
   "nbconvert_exporter": "python",
   "pygments_lexer": "ipython3",
   "version": "3.8.8"
  }
 },
 "nbformat": 4,
 "nbformat_minor": 4
}
