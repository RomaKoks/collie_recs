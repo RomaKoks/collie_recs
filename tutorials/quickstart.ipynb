{
 "cells": [
  {
   "cell_type": "markdown",
   "id": "ef9ad48f-8c25-4856-bb91-4f5cb93c04f2",
   "metadata": {},
   "source": [
    "<table align=\"left\">\n",
    "  <td>\n",
    "    <a target=\"_blank\" href=\"https://colab.research.google.com/github/ShopRunner/collie/blob/main/tutorials/quickstart.ipynb\"><img src=\"https://www.tensorflow.org/images/colab_logo_32px.png\" /> Run in Google Colab</a>\n",
    "  </td>\n",
    "  <td>\n",
    "    <a target=\"_blank\" href=\"https://github.com/ShopRunner/collie#implicit-data\"><img src=\"https://www.tensorflow.org/images/GitHub-Mark-32px.png\" /> View source on GitHub</a>\n",
    "  </td>\n",
    "  <td>\n",
    "    <a target=\"_blank\" href=\"https://raw.githubusercontent.com/ShopRunner/collie/main/tutorials/quickstart.ipynb\"><img src=\"https://www.tensorflow.org/images/download_logo_32px.png\" /> Download notebook</a>\n",
    "  </td>\n",
    "</table>"
   ]
  },
  {
   "cell_type": "code",
   "execution_count": null,
   "id": "5721f245-41d1-4f23-b6c9-2f02abb344f3",
   "metadata": {},
   "outputs": [],
   "source": [
    "# for Collab notebooks, we will start by installing the ``collie`` library\n",
    "!pip install collie --quiet"
   ]
  },
  {
   "cell_type": "markdown",
   "id": "bc0278a6-2b77-43db-a340-f2f5f0394164",
   "metadata": {},
   "source": [
    "# ``collie`` ``README`` Quickstart \n",
    "\n",
    "Below is the code snippet found in the [Collie ``README`` Quickstart](https://github.com/ShopRunner/collie#quick-start). "
   ]
  },
  {
   "cell_type": "code",
   "execution_count": null,
   "id": "ac91768d-625a-4a90-af28-4597000c450f",
   "metadata": {},
   "outputs": [],
   "source": [
    "from collie.cross_validation import stratified_split\n",
    "from collie.interactions import Interactions\n",
    "from collie.metrics import auc, evaluate_in_batches, mapk, mrr\n",
    "from collie.model import MatrixFactorizationModel, CollieTrainer\n",
    "from collie.movielens import read_movielens_df\n",
    "from collie.utils import convert_to_implicit\n",
    "\n",
    "\n",
    "# read in explicit MovieLens 100K data\n",
    "df = read_movielens_df()\n",
    "\n",
    "# convert the data to implicit\n",
    "df_imp = convert_to_implicit(df)\n",
    "\n",
    "# store data as ``Interactions``\n",
    "interactions = Interactions(users=df_imp['user_id'],\n",
    "                            items=df_imp['item_id'],\n",
    "                            allow_missing_ids=True)\n",
    "\n",
    "# perform a data split\n",
    "train, val = stratified_split(interactions)\n",
    "\n",
    "# train an implicit ``MatrixFactorization`` model\n",
    "model = MatrixFactorizationModel(train=train,\n",
    "                                 val=val,\n",
    "                                 embedding_dim=10,\n",
    "                                 lr=1e-1,\n",
    "                                 loss='adaptive',\n",
    "                                 optimizer='adam')\n",
    "trainer = CollieTrainer(model, max_epochs=10)\n",
    "trainer.fit(model)\n",
    "model.eval()\n",
    "\n",
    "# evaluate the model\n",
    "auc_score, mrr_score, mapk_score = evaluate_in_batches(metric_list=[auc, mrr, mapk],\n",
    "                                                       test_interactions=val,\n",
    "                                                       model=model)\n",
    "\n",
    "print(f'AUC:          {auc_score}')\n",
    "print(f'MRR:          {mrr_score}')\n",
    "print(f'MAP@10:       {mapk_score}')"
   ]
  }
 ],
 "metadata": {
  "kernelspec": {
   "display_name": "Python 3",
   "language": "python",
   "name": "python3"
  },
  "language_info": {
   "codemirror_mode": {
    "name": "ipython",
    "version": 3
   },
   "file_extension": ".py",
   "mimetype": "text/x-python",
   "name": "python",
   "nbconvert_exporter": "python",
   "pygments_lexer": "ipython3",
   "version": "3.7.10"
  }
 },
 "nbformat": 4,
 "nbformat_minor": 5
}
