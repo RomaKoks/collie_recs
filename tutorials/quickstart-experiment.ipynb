{
 "cells": [
  {
   "cell_type": "markdown",
   "id": "bc0278a6-2b77-43db-a340-f2f5f0394164",
   "metadata": {},
   "source": [
    "# ``collie_recs`` ``README`` Quickstart \n",
    "\n",
    "Below is the code snippet found in the [Collie ``README`` Quickstart](https://github.com/ShopRunner/collie_recs#quick-start). "
   ]
  },
  {
   "cell_type": "code",
   "execution_count": 1,
   "id": "bbf19759-65f8-4fb5-8022-a82920b6512e",
   "metadata": {},
   "outputs": [],
   "source": [
    "%load_ext autoreload\n",
    "%autoreload 2"
   ]
  },
  {
   "cell_type": "code",
   "execution_count": 2,
   "id": "5233e36d-0405-4bb8-9339-90c8bed6662e",
   "metadata": {},
   "outputs": [
    {
     "name": "stdout",
     "output_type": "stream",
     "text": [
      "Checking ``num_negative_samples`` is valid...\n",
      "Maximum number of items a user has interacted with: 378\n",
      "Generating positive items set...\n",
      "Generating positive items set...\n",
      "Generating positive items set...\n"
     ]
    }
   ],
   "source": [
    "from collie_recs.cross_validation import stratified_split\n",
    "from collie_recs.interactions import Interactions\n",
    "from collie_recs.metrics import auc, evaluate_in_batches, mapk, mrr\n",
    "from collie_recs.movielens import read_movielens_df\n",
    "from collie_recs.utils import convert_to_implicit\n",
    "\n",
    "\n",
    "# read in MovieLens 100K data\n",
    "df = read_movielens_df()\n",
    "\n",
    "# convert the data to implicit\n",
    "df_imp = convert_to_implicit(df)\n",
    "\n",
    "# store data as ``Interactions``\n",
    "interactions = Interactions(users=df_imp['user_id'],\n",
    "                            items=df_imp['item_id'],\n",
    "                            allow_missing_ids=True)\n",
    "\n",
    "# perform a data split\n",
    "train, val = stratified_split(interactions)"
   ]
  },
  {
   "cell_type": "code",
   "execution_count": 12,
   "id": "ac91768d-625a-4a90-af28-4597000c450f",
   "metadata": {},
   "outputs": [],
   "source": [
    "from collie_recs.model import CollieTrainerNoLightning, MatrixFactorizationModel\n",
    "\n",
    "\n",
    "# train an implicit ``MatrixFactorization`` model\n",
    "model = MatrixFactorizationModel(train=train,\n",
    "                                 val=val,\n",
    "                                 embedding_dim=10,\n",
    "                                 lr=1e-1,\n",
    "                                 loss='adaptive',\n",
    "                                 optimizer='adam',\n",
    "                                 bias_optimizer='sgd')\n",
    "trainer = CollieTrainerNoLightning(model, max_epochs=10)"
   ]
  },
  {
   "cell_type": "code",
   "execution_count": 13,
   "id": "9d349331-ca4f-4feb-944b-112552870a91",
   "metadata": {},
   "outputs": [
    {
     "data": {
      "application/vnd.jupyter.widget-view+json": {
       "model_id": "e732b55ef2c8444f8c7b08adef3bf355",
       "version_major": 2,
       "version_minor": 0
      },
      "text/plain": [
       "  0%|          | 0/10 [00:00<?, ?epoch/s]"
      ]
     },
     "metadata": {},
     "output_type": "display_data"
    },
    {
     "data": {
      "application/vnd.jupyter.widget-view+json": {
       "model_id": "",
       "version_major": 2,
       "version_minor": 0
      },
      "text/plain": [
       "(  1  ):   0%|          | 0/43 [00:00<?, ?step/s]"
      ]
     },
     "metadata": {},
     "output_type": "display_data"
    },
    {
     "name": "stdout",
     "output_type": "stream",
     "text": [
      "Epoch     1: train loss: 2.37498, val loss: 2.61969\n"
     ]
    },
    {
     "data": {
      "application/vnd.jupyter.widget-view+json": {
       "model_id": "",
       "version_major": 2,
       "version_minor": 0
      },
      "text/plain": [
       "(  2  ):   0%|          | 0/43 [00:00<?, ?step/s]"
      ]
     },
     "metadata": {},
     "output_type": "display_data"
    },
    {
     "name": "stdout",
     "output_type": "stream",
     "text": [
      "Epoch     2: train loss: 2.43446, val loss: 2.79879\n"
     ]
    },
    {
     "data": {
      "application/vnd.jupyter.widget-view+json": {
       "model_id": "",
       "version_major": 2,
       "version_minor": 0
      },
      "text/plain": [
       "(  3  ):   0%|          | 0/43 [00:00<?, ?step/s]"
      ]
     },
     "metadata": {},
     "output_type": "display_data"
    },
    {
     "name": "stdout",
     "output_type": "stream",
     "text": [
      "Epoch     3: train loss: 2.41327, val loss: 2.82001\n",
      "Epoch     3: reducing learning rate of group 0 to 1.0000e-02.\n",
      "Epoch     3: reducing learning rate of group 0 to 1.0000e-03.\n"
     ]
    },
    {
     "data": {
      "application/vnd.jupyter.widget-view+json": {
       "model_id": "",
       "version_major": 2,
       "version_minor": 0
      },
      "text/plain": [
       "(  4  ):   0%|          | 0/43 [00:00<?, ?step/s]"
      ]
     },
     "metadata": {},
     "output_type": "display_data"
    },
    {
     "name": "stdout",
     "output_type": "stream",
     "text": [
      "Epoch     4: train loss: 2.04559, val loss: 2.43851\n"
     ]
    },
    {
     "data": {
      "application/vnd.jupyter.widget-view+json": {
       "model_id": "",
       "version_major": 2,
       "version_minor": 0
      },
      "text/plain": [
       "(  5  ):   0%|          | 0/43 [00:00<?, ?step/s]"
      ]
     },
     "metadata": {},
     "output_type": "display_data"
    },
    {
     "name": "stdout",
     "output_type": "stream",
     "text": [
      "Epoch     5: train loss: 1.75075, val loss: 2.30521\n"
     ]
    },
    {
     "data": {
      "application/vnd.jupyter.widget-view+json": {
       "model_id": "",
       "version_major": 2,
       "version_minor": 0
      },
      "text/plain": [
       "(  6  ):   0%|          | 0/43 [00:00<?, ?step/s]"
      ]
     },
     "metadata": {},
     "output_type": "display_data"
    },
    {
     "name": "stdout",
     "output_type": "stream",
     "text": [
      "Epoch     6: train loss: 1.66882, val loss: 2.29106\n"
     ]
    },
    {
     "data": {
      "application/vnd.jupyter.widget-view+json": {
       "model_id": "",
       "version_major": 2,
       "version_minor": 0
      },
      "text/plain": [
       "(  7  ):   0%|          | 0/43 [00:00<?, ?step/s]"
      ]
     },
     "metadata": {},
     "output_type": "display_data"
    },
    {
     "name": "stdout",
     "output_type": "stream",
     "text": [
      "Epoch     7: train loss: 1.62930, val loss: 2.24834\n"
     ]
    },
    {
     "data": {
      "application/vnd.jupyter.widget-view+json": {
       "model_id": "",
       "version_major": 2,
       "version_minor": 0
      },
      "text/plain": [
       "(  8  ):   0%|          | 0/43 [00:00<?, ?step/s]"
      ]
     },
     "metadata": {},
     "output_type": "display_data"
    },
    {
     "name": "stdout",
     "output_type": "stream",
     "text": [
      "Epoch     8: train loss: 1.59111, val loss: 2.22069\n"
     ]
    },
    {
     "data": {
      "application/vnd.jupyter.widget-view+json": {
       "model_id": "",
       "version_major": 2,
       "version_minor": 0
      },
      "text/plain": [
       "(  9  ):   0%|          | 0/43 [00:00<?, ?step/s]"
      ]
     },
     "metadata": {},
     "output_type": "display_data"
    },
    {
     "name": "stdout",
     "output_type": "stream",
     "text": [
      "Epoch     9: train loss: 1.58142, val loss: 2.25177\n"
     ]
    },
    {
     "data": {
      "application/vnd.jupyter.widget-view+json": {
       "model_id": "",
       "version_major": 2,
       "version_minor": 0
      },
      "text/plain": [
       "( 10  ):   0%|          | 0/43 [00:00<?, ?step/s]"
      ]
     },
     "metadata": {},
     "output_type": "display_data"
    },
    {
     "name": "stdout",
     "output_type": "stream",
     "text": [
      "Epoch    10: train loss: 1.55479, val loss: 2.25628\n",
      "Epoch    10: reducing learning rate of group 0 to 1.0000e-03.\n",
      "Epoch    10: reducing learning rate of group 0 to 1.0000e-04.\n",
      "CPU times: user 3min 25s, sys: 11 s, total: 3min 36s\n",
      "Wall time: 38.3 s\n"
     ]
    }
   ],
   "source": [
    "%%time\n",
    "trainer.fit(model)"
   ]
  },
  {
   "cell_type": "code",
   "execution_count": 14,
   "id": "24504c48-34fd-445c-b6b8-7547d58419c1",
   "metadata": {},
   "outputs": [
    {
     "data": {
      "application/vnd.jupyter.widget-view+json": {
       "model_id": "43c9e116a40d4ff68e0bf85b783995d3",
       "version_major": 2,
       "version_minor": 0
      },
      "text/plain": [
       "  0%|          | 0/10 [00:00<?, ?epoch/s]"
      ]
     },
     "metadata": {},
     "output_type": "display_data"
    },
    {
     "data": {
      "application/vnd.jupyter.widget-view+json": {
       "model_id": "",
       "version_major": 2,
       "version_minor": 0
      },
      "text/plain": [
       "( 11  ):   0%|          | 0/43 [00:00<?, ?step/s]"
      ]
     },
     "metadata": {},
     "output_type": "display_data"
    },
    {
     "name": "stdout",
     "output_type": "stream",
     "text": [
      "Epoch    11: train loss: 1.52432, val loss: 2.23889\n"
     ]
    },
    {
     "data": {
      "application/vnd.jupyter.widget-view+json": {
       "model_id": "",
       "version_major": 2,
       "version_minor": 0
      },
      "text/plain": [
       "( 12  ):   0%|          | 0/43 [00:00<?, ?step/s]"
      ]
     },
     "metadata": {},
     "output_type": "display_data"
    },
    {
     "name": "stdout",
     "output_type": "stream",
     "text": [
      "Epoch    12: train loss: 1.52501, val loss: 2.24746\n",
      "Epoch    12: Early stopping activated.\n",
      "CPU times: user 37.2 s, sys: 2.17 s, total: 39.4 s\n",
      "Wall time: 7.25 s\n"
     ]
    }
   ],
   "source": [
    "%%time\n",
    "trainer.fit(model)"
   ]
  },
  {
   "cell_type": "code",
   "execution_count": null,
   "id": "d254dd4a-5d8c-403d-a74d-5013ea8f150e",
   "metadata": {},
   "outputs": [],
   "source": []
  },
  {
   "cell_type": "code",
   "execution_count": 6,
   "id": "82e67baf-352a-4c78-9439-7b811588eba4",
   "metadata": {},
   "outputs": [
    {
     "name": "stderr",
     "output_type": "stream",
     "text": [
      "GPU available: False, used: False\n",
      "TPU available: False, using: 0 TPU cores\n"
     ]
    }
   ],
   "source": [
    "from collie_recs.model import CollieTrainer, MatrixFactorizationModel\n",
    "\n",
    "\n",
    "# train an implicit ``MatrixFactorization`` model\n",
    "model = MatrixFactorizationModel(train=train,\n",
    "                                 val=val,\n",
    "                                 embedding_dim=10,\n",
    "                                 lr=1e-1,\n",
    "                                 loss='adaptive',\n",
    "                                 optimizer='adam',\n",
    "                                 bias_optimizer=None)\n",
    "trainer = CollieTrainer(model, max_epochs=10)"
   ]
  },
  {
   "cell_type": "code",
   "execution_count": 7,
   "id": "5e6b6b00-0d68-4c7f-89cc-bf80a10ebcab",
   "metadata": {},
   "outputs": [
    {
     "name": "stderr",
     "output_type": "stream",
     "text": [
      "\n",
      "  | Name            | Type            | Params\n",
      "----------------------------------------------------\n",
      "0 | user_biases     | ZeroEmbedding   | 943   \n",
      "1 | item_biases     | ZeroEmbedding   | 1.7 K \n",
      "2 | user_embeddings | ScaledEmbedding | 9.4 K \n",
      "3 | item_embeddings | ScaledEmbedding | 16.7 K\n",
      "4 | dropout         | Dropout         | 0     \n",
      "----------------------------------------------------\n",
      "28.8 K    Trainable params\n",
      "0         Non-trainable params\n",
      "28.8 K    Total params\n",
      "0.115     Total estimated model params size (MB)\n"
     ]
    },
    {
     "data": {
      "application/vnd.jupyter.widget-view+json": {
       "model_id": "",
       "version_major": 2,
       "version_minor": 0
      },
      "text/plain": [
       "Validation sanity check: 0it [00:00, ?it/s]"
      ]
     },
     "metadata": {},
     "output_type": "display_data"
    },
    {
     "data": {
      "application/vnd.jupyter.widget-view+json": {
       "model_id": "bcfa08a779464cb9b5e925c9561a25a7",
       "version_major": 2,
       "version_minor": 0
      },
      "text/plain": [
       "Training: 0it [00:00, ?it/s]"
      ]
     },
     "metadata": {},
     "output_type": "display_data"
    },
    {
     "data": {
      "application/vnd.jupyter.widget-view+json": {
       "model_id": "",
       "version_major": 2,
       "version_minor": 0
      },
      "text/plain": [
       "Validating: 0it [00:00, ?it/s]"
      ]
     },
     "metadata": {},
     "output_type": "display_data"
    },
    {
     "data": {
      "application/vnd.jupyter.widget-view+json": {
       "model_id": "",
       "version_major": 2,
       "version_minor": 0
      },
      "text/plain": [
       "Validating: 0it [00:00, ?it/s]"
      ]
     },
     "metadata": {},
     "output_type": "display_data"
    },
    {
     "data": {
      "application/vnd.jupyter.widget-view+json": {
       "model_id": "",
       "version_major": 2,
       "version_minor": 0
      },
      "text/plain": [
       "Validating: 0it [00:00, ?it/s]"
      ]
     },
     "metadata": {},
     "output_type": "display_data"
    },
    {
     "name": "stdout",
     "output_type": "stream",
     "text": [
      "Epoch     3: reducing learning rate of group 0 to 1.0000e-02.\n"
     ]
    },
    {
     "data": {
      "application/vnd.jupyter.widget-view+json": {
       "model_id": "",
       "version_major": 2,
       "version_minor": 0
      },
      "text/plain": [
       "Validating: 0it [00:00, ?it/s]"
      ]
     },
     "metadata": {},
     "output_type": "display_data"
    },
    {
     "data": {
      "application/vnd.jupyter.widget-view+json": {
       "model_id": "",
       "version_major": 2,
       "version_minor": 0
      },
      "text/plain": [
       "Validating: 0it [00:00, ?it/s]"
      ]
     },
     "metadata": {},
     "output_type": "display_data"
    },
    {
     "data": {
      "application/vnd.jupyter.widget-view+json": {
       "model_id": "",
       "version_major": 2,
       "version_minor": 0
      },
      "text/plain": [
       "Validating: 0it [00:00, ?it/s]"
      ]
     },
     "metadata": {},
     "output_type": "display_data"
    },
    {
     "data": {
      "application/vnd.jupyter.widget-view+json": {
       "model_id": "",
       "version_major": 2,
       "version_minor": 0
      },
      "text/plain": [
       "Validating: 0it [00:00, ?it/s]"
      ]
     },
     "metadata": {},
     "output_type": "display_data"
    },
    {
     "data": {
      "application/vnd.jupyter.widget-view+json": {
       "model_id": "",
       "version_major": 2,
       "version_minor": 0
      },
      "text/plain": [
       "Validating: 0it [00:00, ?it/s]"
      ]
     },
     "metadata": {},
     "output_type": "display_data"
    },
    {
     "data": {
      "application/vnd.jupyter.widget-view+json": {
       "model_id": "",
       "version_major": 2,
       "version_minor": 0
      },
      "text/plain": [
       "Validating: 0it [00:00, ?it/s]"
      ]
     },
     "metadata": {},
     "output_type": "display_data"
    },
    {
     "data": {
      "application/vnd.jupyter.widget-view+json": {
       "model_id": "",
       "version_major": 2,
       "version_minor": 0
      },
      "text/plain": [
       "Validating: 0it [00:00, ?it/s]"
      ]
     },
     "metadata": {},
     "output_type": "display_data"
    },
    {
     "name": "stdout",
     "output_type": "stream",
     "text": [
      "CPU times: user 3min 25s, sys: 10.5 s, total: 3min 36s\n",
      "Wall time: 40.8 s\n"
     ]
    },
    {
     "data": {
      "text/plain": [
       "1"
      ]
     },
     "execution_count": 7,
     "metadata": {},
     "output_type": "execute_result"
    }
   ],
   "source": [
    "%%time\n",
    "trainer.fit(model)"
   ]
  },
  {
   "cell_type": "code",
   "execution_count": null,
   "id": "47dc6b18-a460-4f7f-be5b-4c1ba316eacf",
   "metadata": {},
   "outputs": [],
   "source": []
  }
 ],
 "metadata": {
  "kernelspec": {
   "display_name": "Python 3",
   "language": "python",
   "name": "python3"
  },
  "language_info": {
   "codemirror_mode": {
    "name": "ipython",
    "version": 3
   },
   "file_extension": ".py",
   "mimetype": "text/x-python",
   "name": "python",
   "nbconvert_exporter": "python",
   "pygments_lexer": "ipython3",
   "version": "3.8.8"
  }
 },
 "nbformat": 4,
 "nbformat_minor": 5
}
