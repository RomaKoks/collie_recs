{
 "cells": [
  {
   "cell_type": "markdown",
   "metadata": {
    "id": "TayxYjT6ghTz"
   },
   "source": [
    "<table align=\"left\">\n",
    "  <td>\n",
    "    <a target=\"_blank\" href=\"https://colab.research.google.com/github/ShopRunner/collie_recs/blob/main/tutorials/02_matrix_factorization.ipynb\"><img src=\"https://www.tensorflow.org/images/colab_logo_32px.png\" /> Run in Google Colab</a>\n",
    "  </td>\n",
    "  <td>\n",
    "    <a target=\"_blank\" href=\"https://github.com/ShopRunner/collie_recs/blob/main/tutorials/02_matrix_factorization.ipynb\"><img src=\"https://www.tensorflow.org/images/GitHub-Mark-32px.png\" /> View source on GitHub</a>\n",
    "  </td>\n",
    "  <td>\n",
    "    <a target=\"_blank\" href=\"https://raw.githubusercontent.com/ShopRunner/collie_recs/main/tutorials/02_matrix_factorization.ipynb\"><img src=\"https://www.tensorflow.org/images/download_logo_32px.png\" /> Download notebook</a>\n",
    "  </td>\n",
    "</table>"
   ]
  },
  {
   "cell_type": "code",
   "execution_count": null,
   "metadata": {
    "id": "biMV0A3PghT8"
   },
   "outputs": [],
   "source": [
    "# for Collab notebooks, we will start by installing the ``collie_recs`` library\n",
    "!pip install collie_recs --quiet"
   ]
  },
  {
   "cell_type": "code",
   "execution_count": 2,
   "metadata": {
    "id": "jXy-xd0PghT9",
    "outputId": "b4008bd7-ee81-4317-e74d-eb6bb7d3320c",
    "tags": []
   },
   "outputs": [
    {
     "name": "stdout",
     "output_type": "stream",
     "text": [
      "env: DATA_PATH=./data/\n"
     ]
    }
   ],
   "source": [
    "%reload_ext autoreload\n",
    "%autoreload 2\n",
    "%matplotlib inline\n",
    "\n",
    "%env DATA_PATH ./data/"
   ]
  },
  {
   "cell_type": "code",
   "execution_count": 1,
   "metadata": {
    "id": "TXwfzQCMghT-",
    "tags": []
   },
   "outputs": [],
   "source": [
    "import os\n",
    "\n",
    "from IPython.display import HTML\n",
    "import joblib\n",
    "import numpy as np\n",
    "from pytorch_lightning.utilities.seed import seed_everything\n",
    "\n",
    "from collie_recs.metrics import auc, evaluate_in_batches, mapk, mrr\n",
    "from collie_recs.model import CollieTrainer, MatrixFactorizationModel\n",
    "from collie_recs.movielens import get_recommendation_visualizations"
   ]
  },
  {
   "cell_type": "markdown",
   "metadata": {
    "id": "44gLNrW-ghT_"
   },
   "source": [
    "## Load Data From ``01_prepare_data`` Notebook \n",
    "If you're running this locally on Jupyter, you should be able to run the next cell quickly without a problem! If you are running this on Colab, you'll need to regenerate the data by running the cell below that, which should only take a few extra seconds to complete. "
   ]
  },
  {
   "cell_type": "code",
   "execution_count": 3,
   "metadata": {
    "id": "XKKPmYi_ghT_",
    "outputId": "23c16373-6747-4255-9f52-7091312e0b71"
   },
   "outputs": [
    {
     "name": "stdout",
     "output_type": "stream",
     "text": [
      "Train: Interactions object with 49426 interactions between 943 users and 1674 items, returning 10 negative samples per interaction.\n",
      "Val:   Interactions object with 5949 interactions between 943 users and 1674 items, returning 10 negative samples per interaction.\n"
     ]
    }
   ],
   "source": [
    "try:\n",
    "    # let's grab the ``Interactions`` objects we saved in the last notebook\n",
    "    train_interactions = joblib.load(os.path.join(os.environ.get('DATA_PATH', 'data/'),\n",
    "                                                  'train_interactions.pkl'))\n",
    "    val_interactions = joblib.load(os.path.join(os.environ.get('DATA_PATH', 'data/'),\n",
    "                                                'val_interactions.pkl'))\n",
    "except FileNotFoundError:\n",
    "    # we're running this notebook on Colab where results from the first notebook are not saved\n",
    "    # regenerate this data below\n",
    "    from collie_recs.cross_validation import stratified_split\n",
    "    from collie_recs.interactions import Interactions\n",
    "    from collie_recs.movielens import read_movielens_df\n",
    "    from collie_recs.utils import convert_to_implicit, remove_users_with_fewer_than_n_interactions\n",
    "\n",
    "\n",
    "    df = read_movielens_df(decrement_ids=True)\n",
    "    implicit_df = convert_to_implicit(df, min_rating_to_keep=4)\n",
    "    implicit_df = remove_users_with_fewer_than_n_interactions(implicit_df, min_num_of_interactions=3)\n",
    "\n",
    "    interactions = Interactions(\n",
    "        users=implicit_df['user_id'],\n",
    "        items=implicit_df['item_id'],\n",
    "        ratings=implicit_df['rating'],\n",
    "        allow_missing_ids=True,\n",
    "    )\n",
    "\n",
    "    train_interactions, val_interactions = stratified_split(interactions, test_p=0.1, seed=42)\n",
    "\n",
    "\n",
    "print('Train:', train_interactions)\n",
    "print('Val:  ', val_interactions)"
   ]
  },
  {
   "cell_type": "markdown",
   "metadata": {
    "id": "ZWi4VUjeghUA"
   },
   "source": [
    "# Train a Matrix Factorization Model\n",
    "## Model Architecture \n",
    "With our data ready-to-go, we can now start training a recommendation model. While Collie has several model architectures built-in, the simplest by far is the ``MatrixFactorizationModel``, which use ``torch.nn.Embedding`` layers and a dot-product operation to perform matrix factorization via collaborative filtering. \n",
    "\n",
    "<img src=\"https://sigopt.com/wp-content/uploads/2018/10/collaborative_filtering.png\" align=\"center\"/>\n",
    "\n",
    "Digging through the code of [``collie_recs.model.MatrixFactorizationModel``](../collie_recs/model.py) shows the architecture is as simple as we might think. For simplicity, we will include relevant portions below so we know exactly what we are building: \n",
    "\n",
    "````python\n",
    "def _setup_model(self, **kwargs) -> None:\n",
    "    self.user_biases = ZeroEmbedding(num_embeddings=self.hparams.num_users,\n",
    "                                     embedding_dim=1,\n",
    "                                     sparse=self.hparams.sparse)\n",
    "    self.item_biases = ZeroEmbedding(num_embeddings=self.hparams.num_items,\n",
    "                                     embedding_dim=1,\n",
    "                                     sparse=self.hparams.sparse)\n",
    "    self.user_embeddings = ScaledEmbedding(num_embeddings=self.hparams.num_users,\n",
    "                                           embedding_dim=self.hparams.embedding_dim,\n",
    "                                           sparse=self.hparams.sparse)\n",
    "    self.item_embeddings = ScaledEmbedding(num_embeddings=self.hparams.num_items,\n",
    "                                           embedding_dim=self.hparams.embedding_dim,\n",
    "                                           sparse=self.hparams.sparse)\n",
    "\n",
    "        \n",
    "def forward(self, users: torch.tensor, items: torch.tensor) -> torch.tensor:\n",
    "    user_embeddings = self.user_embeddings(users)\n",
    "    item_embeddings = self.item_embeddings(items)\n",
    "\n",
    "    preds = (\n",
    "        torch.mul(user_embeddings, item_embeddings).sum(axis=1)\n",
    "        + self.user_biases(users).squeeze(1)\n",
    "        + self.item_biases(items).squeeze(1)\n",
    "    )\n",
    "\n",
    "    if self.hparams.y_range is not None:\n",
    "        preds = (\n",
    "            torch.sigmoid(preds)\n",
    "            * (self.hparams.y_range[1] - self.hparams.y_range[0])\n",
    "            + self.hparams.y_range[0]\n",
    "        )\n",
    "\n",
    "    return preds\n",
    "````\n",
    "\n",
    "Let's go ahead and instantiate the model and start training! Note that even if you are running this model on a CPU instead of a GPU, this will still be relatively quick to fully train. "
   ]
  },
  {
   "cell_type": "code",
   "execution_count": 4,
   "metadata": {
    "id": "J8FXCfXgghUB",
    "outputId": "cf7a3601-2841-438b-f7a2-3ebc20eefb54"
   },
   "outputs": [
    {
     "name": "stderr",
     "output_type": "stream",
     "text": [
      "Global seed set to 22\n"
     ]
    },
    {
     "data": {
      "text/plain": [
       "22"
      ]
     },
     "execution_count": 4,
     "metadata": {},
     "output_type": "execute_result"
    }
   ],
   "source": [
    "# this handy PyTorch Lightning function fixes random seeds across all the libraries used here\n",
    "seed_everything(22)"
   ]
  },
  {
   "cell_type": "code",
   "execution_count": 5,
   "metadata": {
    "id": "1BrD8J9WghUB"
   },
   "outputs": [],
   "source": [
    "# Collie is built with PyTorch Lightning, so all the model classes and the ``CollieTrainer`` class \n",
    "# accept all the training options available in PyTorch Lightning. Here, we're going to set the\n",
    "# embedding dimension and learning rate differently, and go with the defaults for everything else\n",
    "model = MatrixFactorizationModel(\n",
    "    train=train_interactions,\n",
    "    val=val_interactions,\n",
    "    embedding_dim=10,\n",
    "    lr=1e-2,\n",
    ")"
   ]
  },
  {
   "cell_type": "code",
   "execution_count": 6,
   "metadata": {
    "colab": {
     "referenced_widgets": [
      "",
      "3fe1660eaf19452bb9a8dfb44746f19d"
     ]
    },
    "id": "HXdA1t9OghUC",
    "outputId": "924cada4-2036-4e1f-ae0a-b3ab35a44df1"
   },
   "outputs": [
    {
     "name": "stderr",
     "output_type": "stream",
     "text": [
      "GPU available: False, used: False\n",
      "TPU available: False, using: 0 TPU cores\n",
      "\n",
      "  | Name            | Type            | Params\n",
      "----------------------------------------------------\n",
      "0 | user_biases     | ZeroEmbedding   | 943   \n",
      "1 | item_biases     | ZeroEmbedding   | 1.7 K \n",
      "2 | user_embeddings | ScaledEmbedding | 9.4 K \n",
      "3 | item_embeddings | ScaledEmbedding | 16.7 K\n",
      "4 | dropout         | Dropout         | 0     \n",
      "----------------------------------------------------\n",
      "28.8 K    Trainable params\n",
      "0         Non-trainable params\n",
      "28.8 K    Total params\n",
      "0.115     Total estimated model params size (MB)\n"
     ]
    },
    {
     "data": {
      "application/vnd.jupyter.widget-view+json": {
       "model_id": "",
       "version_major": 2,
       "version_minor": 0
      },
      "text/plain": [
       "Validation sanity check: 0it [00:00, ?it/s]"
      ]
     },
     "metadata": {},
     "output_type": "display_data"
    },
    {
     "name": "stderr",
     "output_type": "stream",
     "text": [
      "Global seed set to 22\n"
     ]
    },
    {
     "data": {
      "application/vnd.jupyter.widget-view+json": {
       "model_id": "6e60b823cfc94c4283fcfd00ff351c56",
       "version_major": 2,
       "version_minor": 0
      },
      "text/plain": [
       "Training: 0it [00:00, ?it/s]"
      ]
     },
     "metadata": {},
     "output_type": "display_data"
    },
    {
     "data": {
      "application/vnd.jupyter.widget-view+json": {
       "model_id": "",
       "version_major": 2,
       "version_minor": 0
      },
      "text/plain": [
       "Validating: 0it [00:00, ?it/s]"
      ]
     },
     "metadata": {},
     "output_type": "display_data"
    },
    {
     "data": {
      "application/vnd.jupyter.widget-view+json": {
       "model_id": "",
       "version_major": 2,
       "version_minor": 0
      },
      "text/plain": [
       "Validating: 0it [00:00, ?it/s]"
      ]
     },
     "metadata": {},
     "output_type": "display_data"
    },
    {
     "name": "stderr",
     "output_type": "stream",
     "text": [
      "/Users/htorrence/.pyenv/versions/3.7.4/envs/collie/lib/python3.7/site-packages/pytorch_lightning/utilities/distributed.py:69: UserWarning: Detected KeyboardInterrupt, attempting graceful shutdown...\n",
      "  warnings.warn(*args, **kwargs)\n"
     ]
    }
   ],
   "source": [
    "trainer = CollieTrainer(model, max_epochs=10, deterministic=True)\n",
    "\n",
    "trainer.fit(model)"
   ]
  },
  {
   "cell_type": "markdown",
   "metadata": {
    "id": "b1PhE5nDghUC"
   },
   "source": [
    "## Evaluate the Model \n",
    "We have a model! Now, we need to figure out how well we did. Evaluating implicit recommendation models is a bit tricky, but Collie offers the following metrics that are built into the library. They use vectorized operations that can run on the GPU in a single pass for speed-ups. \n",
    "\n",
    "* [``Mean Average Precision at K (MAP@K)``](https://en.wikipedia.org/wiki/Evaluation_measures_(information_retrieval)#Mean_average_precision) \n",
    "* [``Mean Reciprocal Rank``](https://en.wikipedia.org/wiki/Mean_reciprocal_rank) \n",
    "* [``Area Under the Curve (AUC)``](https://en.wikipedia.org/wiki/Receiver_operating_characteristic#Area_under_the_curve) \n",
    "\n",
    "We'll go ahead and evaluate all of these at once below. "
   ]
  },
  {
   "cell_type": "code",
   "execution_count": null,
   "metadata": {
    "colab": {
     "referenced_widgets": [
      "eef1d5e283574ab5bb6203765a7fe46a"
     ]
    },
    "id": "iRhCH6zPghUC",
    "outputId": "aa3215f8-f938-46d4-f0ef-1ddf35235117"
   },
   "outputs": [
    {
     "data": {
      "application/vnd.jupyter.widget-view+json": {
       "model_id": "eef1d5e283574ab5bb6203765a7fe46a",
       "version_major": 2,
       "version_minor": 0
      },
      "text/plain": [
       "  0%|          | 0/48 [00:00<?, ?it/s]"
      ]
     },
     "metadata": {
      "tags": []
     },
     "output_type": "display_data"
    },
    {
     "name": "stdout",
     "output_type": "stream",
     "text": [
      "MAP@10 Score: 0.05192560600358726\n",
      "MRR Score:    0.16550805644308178\n",
      "AUC Score:    0.9013473830658413\n"
     ]
    }
   ],
   "source": [
    "model.eval()  # set model to inference mode\n",
    "mapk_score, mrr_score, auc_score = evaluate_in_batches([mapk, mrr, auc], val_interactions, model)\n",
    "\n",
    "print(f'MAP@10 Score: {mapk_score}')\n",
    "print(f'MRR Score:    {mrr_score}')\n",
    "print(f'AUC Score:    {auc_score}')"
   ]
  },
  {
   "cell_type": "markdown",
   "metadata": {
    "id": "z7y-J7KUghUD"
   },
   "source": [
    "We can also look at particular users to get a sense of what the recs look like. "
   ]
  },
  {
   "cell_type": "code",
   "execution_count": null,
   "metadata": {
    "id": "sIQsXedgghUD",
    "outputId": "a41d35e0-f7fa-4b50-f395-fff6494c7f0b"
   },
   "outputs": [
    {
     "data": {
      "text/html": [
       "<h3>User 885:</h3><table border=\"1\" class=\"dataframe\">\n",
       "  <thead>\n",
       "    <tr style=\"text-align: right;\">\n",
       "      <th></th>\n",
       "      <th>Dances with Wolves (1990)</th>\n",
       "      <th>Speed (1994)</th>\n",
       "      <th>Hunchback of Notre Dame, The (1996)</th>\n",
       "      <th>Cinderella (1950)</th>\n",
       "      <th>Apollo 13 (1995)</th>\n",
       "      <th>One Fine Day (1996)</th>\n",
       "      <th>Indiana Jones and the Last Crusade (1989)</th>\n",
       "      <th>Four Weddings and a Funeral (1994)</th>\n",
       "      <th>Truth About Cats & Dogs, The (1996)</th>\n",
       "      <th>Top Gun (1986)</th>\n",
       "    </tr>\n",
       "  </thead>\n",
       "  <tbody>\n",
       "    <tr>\n",
       "      <th>Some loved films:</th>\n",
       "      <td><img src=\"https://m.media-amazon.com/images/M/MV5BMTY3OTI5NDczN15BMl5BanBnXkFtZTcwNDA0NDY3Mw@@.jpg\" width=500></td>\n",
       "      <td><img src=\"https://m.media-amazon.com/images/M/MV5BYjc0MjYyN2EtZGRhMy00NzJiLWI2Y2QtYzhiYTU3NzAxNzg4XkEyXkFqcGdeQXVyMTQxNzMzNDI@.jpg\" width=500></td>\n",
       "      <td><img src=\"https://m.media-amazon.com/images/M/MV5BNzMxMDc4OGItODBiZi00NjYyLThiMzctMzQwZjgzYWE0MzQzXkEyXkFqcGdeQXVyNTUyMzE4Mzg@.jpg\" width=500></td>\n",
       "      <td><img src=\"https://m.media-amazon.com/images/M/MV5BMWE3NzMxZTYtZTUyYi00ZTMzLTg2MzEtZjg0NGM3ZDJjZDg2XkEyXkFqcGdeQXVyNDE5MTU2MDE@.jpg\" width=500></td>\n",
       "      <td><img src=\"https://m.media-amazon.com/images/M/MV5BNjEzYjJmNzgtNDkwNy00MTQ4LTlmMWMtNzA4YjE2NjI0ZDg4XkEyXkFqcGdeQXVyNjU0OTQ0OTY@.jpg\" width=500></td>\n",
       "      <td><img src=\"https://m.media-amazon.com/images/M/MV5BNDdhMjgxODQtZjNhNS00YjZiLWFmYTAtODZmM2RhM2M3YmIwXkEyXkFqcGdeQXVyMTQxNzMzNDI@.jpg\" width=500></td>\n",
       "      <td><img src=\"https://m.media-amazon.com/images/M/MV5BMjNkMzc2N2QtNjVlNS00ZTk5LTg0MTgtODY2MDAwNTMwZjBjXkEyXkFqcGdeQXVyNDk3NzU2MTQ@.jpg\" width=500></td>\n",
       "      <td><img src=\"https://m.media-amazon.com/images/M/MV5BMTMyNzg2NzgxNV5BMl5BanBnXkFtZTcwMTcxNzczNA@@.jpg\" width=500></td>\n",
       "      <td><img src=\"https://m.media-amazon.com/images/M/MV5BOWM0MTA4NjItMzM3ZS00NDJmLTg3NWItNGE5ODIyOGJhNzQ0L2ltYWdlL2ltYWdlXkEyXkFqcGdeQXVyMTQxNzMzNDI@.jpg\" width=500></td>\n",
       "      <td><img src=\"https://m.media-amazon.com/images/M/MV5BZjQxYTA3ODItNzgxMy00N2Y2LWJlZGMtMTRlM2JkZjI1ZDhhXkEyXkFqcGdeQXVyNDk3NzU2MTQ@.jpg\" width=500></td>\n",
       "    </tr>\n",
       "  </tbody>\n",
       "</table><table border=\"1\" class=\"dataframe\">\n",
       "  <thead>\n",
       "    <tr style=\"text-align: right;\">\n",
       "      <th></th>\n",
       "      <th>Empire Strikes Back, The (1980)</th>\n",
       "      <th>Braveheart (1995)</th>\n",
       "      <th>Independence Day (ID4) (1996)</th>\n",
       "      <th>Star Wars (1977)</th>\n",
       "      <th>Return of the Jedi (1983)</th>\n",
       "      <th>Groundhog Day (1993)</th>\n",
       "      <th>Terminator 2: Judgment Day (1991)</th>\n",
       "      <th>Dead Poets Society (1989)</th>\n",
       "      <th>Field of Dreams (1989)</th>\n",
       "      <th>Hunt for Red October, The (1990)</th>\n",
       "    </tr>\n",
       "  </thead>\n",
       "  <tbody>\n",
       "    <tr>\n",
       "      <th>Recommended films:</th>\n",
       "      <td><img src=\"https://m.media-amazon.com/images/M/MV5BYmU1NDRjNDgtMzhiMi00NjZmLTg5NGItZDNiZjU5NTU4OTE0XkEyXkFqcGdeQXVyNzkwMjQ5NzM@.jpg\" width=500></td>\n",
       "      <td><img src=\"https://m.media-amazon.com/images/M/MV5BMzkzMmU0YTYtOWM3My00YzBmLWI0YzctOGYyNTkwMWE5MTJkXkEyXkFqcGdeQXVyNzkwMjQ5NzM@.jpg\" width=500></td>\n",
       "      <td><img src=\"https://m.media-amazon.com/images/M/MV5BMGQwNDNkMmItYWY1Yy00YTZmLWE5OTAtODU0MGZmMzQ1NDdkXkEyXkFqcGdeQXVyMTQxNzMzNDI@.jpg\" width=500></td>\n",
       "      <td><img src=\"https://m.media-amazon.com/images/M/MV5BNzVlY2MwMjktM2E4OS00Y2Y3LWE3ZjctYzhkZGM3YzA1ZWM2XkEyXkFqcGdeQXVyNzkwMjQ5NzM@.jpg\" width=500></td>\n",
       "      <td><img src=\"https://m.media-amazon.com/images/M/MV5BOWZlMjFiYzgtMTUzNC00Y2IzLTk1NTMtZmNhMTczNTk0ODk1XkEyXkFqcGdeQXVyNTAyODkwOQ@@.jpg\" width=500></td>\n",
       "      <td><img src=\"https://m.media-amazon.com/images/M/MV5BZWIxNzM5YzQtY2FmMS00Yjc3LWI1ZjUtNGVjMjMzZTIxZTIxXkEyXkFqcGdeQXVyNjU0OTQ0OTY@.jpg\" width=500></td>\n",
       "      <td><img src=\"https://m.media-amazon.com/images/M/MV5BMGU2NzRmZjUtOGUxYS00ZjdjLWEwZWItY2NlM2JhNjkxNTFmXkEyXkFqcGdeQXVyNjU0OTQ0OTY@.jpg\" width=500></td>\n",
       "      <td><img src=\"https://m.media-amazon.com/images/M/MV5BOGYwYWNjMzgtNGU4ZC00NWQ2LWEwZjUtMzE1Zjc3NjY3YTU1XkEyXkFqcGdeQXVyMTQxNzMzNDI@.jpg\" width=500></td>\n",
       "      <td><img src=\"https://m.media-amazon.com/images/M/MV5BNzk5OWY0YjAtYWU3ZS00Y2Q4LWFlNjItMzgwMTQ2MjIyMDFmL2ltYWdlL2ltYWdlXkEyXkFqcGdeQXVyMTQxNzMzNDI@.jpg\" width=500></td>\n",
       "      <td><img src=\"https://m.media-amazon.com/images/M/MV5BY2Y5NWVjMmQtMWRmOC00ZTg3LWI3YWQtZGI2MWUwNWQ4OWQ2XkEyXkFqcGdeQXVyNDk3NzU2MTQ@.jpg\" width=500></td>\n",
       "    </tr>\n",
       "  </tbody>\n",
       "</table>-----<p style=\"margin:0\">User 885 has rated <strong>45</strong> films with a 4 or 5</p><p style=\"margin:0\">User 885 has rated <strong>57</strong> films with a 1, 2, or 3</p><p style=\"margin:0\">% of these films rated 5 or 4 appearing in the first 10 recommendations:<strong style=\"color:green\">70.0%</strong></p><p style=\"margin:0\">% of these films rated 1, 2, or 3 appearing in the first 10 recommendations: <strong style=\"color:red\">10.0%</strong></p>"
      ],
      "text/plain": [
       "<IPython.core.display.HTML object>"
      ]
     },
     "metadata": {
      "tags": []
     },
     "output_type": "display_data"
    }
   ],
   "source": [
    "# select a random user ID to look at recommendations for\n",
    "user_id = np.random.randint(0, train_interactions.num_users)\n",
    "\n",
    "display(\n",
    "    HTML(\n",
    "        get_recommendation_visualizations(\n",
    "            model=model,\n",
    "            user_id=user_id,\n",
    "            filter_films=True,\n",
    "            shuffle=True,\n",
    "            detailed=True,\n",
    "        )\n",
    "    )\n",
    ")"
   ]
  },
  {
   "cell_type": "markdown",
   "metadata": {
    "id": "DbZ9ufGvghUE"
   },
   "source": [
    "## Save and Load a Standard Model "
   ]
  },
  {
   "cell_type": "code",
   "execution_count": null,
   "metadata": {
    "id": "WqJbXHXgghUG"
   },
   "outputs": [],
   "source": [
    "# we can save the model with...\n",
    "os.makedirs('models', exist_ok=True)\n",
    "model.save_model('models/matrix_factorization_model.pth')"
   ]
  },
  {
   "cell_type": "code",
   "execution_count": null,
   "metadata": {
    "id": "Dz_8miLPghUG",
    "outputId": "2df293e2-82ca-4ed1-c96d-1d9d8a69ef23"
   },
   "outputs": [
    {
     "data": {
      "text/plain": [
       "MatrixFactorizationModel(\n",
       "  (user_biases): ZeroEmbedding(943, 1)\n",
       "  (item_biases): ZeroEmbedding(1674, 1)\n",
       "  (user_embeddings): ScaledEmbedding(943, 10)\n",
       "  (item_embeddings): ScaledEmbedding(1674, 10)\n",
       "  (dropout): Dropout(p=0.0, inplace=False)\n",
       ")"
      ]
     },
     "execution_count": 10,
     "metadata": {
      "tags": []
     },
     "output_type": "execute_result"
    }
   ],
   "source": [
    "# ... and if we wanted to load that model back in, we can do that easily...\n",
    "model_loaded_in = MatrixFactorizationModel(load_model_path='models/matrix_factorization_model.pth')\n",
    "\n",
    "\n",
    "model_loaded_in"
   ]
  },
  {
   "cell_type": "markdown",
   "metadata": {
    "id": "cQpWlCuughUH"
   },
   "source": [
    "Now that we've built our first model and gotten some baseline metrics, we can move on to the next tutorial looking at some more advanced features in Collie's ``MatrixFactorizationModel``. "
   ]
  },
  {
   "cell_type": "markdown",
   "metadata": {
    "id": "DwqNr6fRghUH"
   },
   "source": [
    "----- "
   ]
  }
 ],
 "metadata": {
  "colab": {
   "collapsed_sections": [
    "44gLNrW-ghT_"
   ],
   "name": "02_matrix_factorization.ipynb",
   "provenance": []
  },
  "kernelspec": {
   "display_name": "Python 3",
   "language": "python",
   "name": "python3"
  },
  "language_info": {
   "codemirror_mode": {
    "name": "ipython",
    "version": 3
   },
   "file_extension": ".py",
   "mimetype": "text/x-python",
   "name": "python",
   "nbconvert_exporter": "python",
   "pygments_lexer": "ipython3",
   "version": "3.7.4"
  }
 },
 "nbformat": 4,
 "nbformat_minor": 4
}
